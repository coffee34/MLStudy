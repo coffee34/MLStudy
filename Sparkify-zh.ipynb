{
 "cells": [
  {
   "cell_type": "markdown",
   "metadata": {},
   "source": [
    "# Sparkify 项目\n",
    "这个 Workspace 包括一个迷你的子数据集（128MB），是完整数据集（12GB）的一个子集。在将你的项目部署到云上之前，你可以自由使用 Workspace 来创建你的项目或用Spark来探索这个较小数据集。设置 Spark 集群的指南可以在选修 Spark 课程的内容里找到。\n",
    "\n",
    "你可以依照下面的步骤进行项目的数据分析和模型搭建部分。"
   ]
  },
  {
   "cell_type": "code",
   "execution_count": 47,
   "metadata": {},
   "outputs": [],
   "source": [
    "# import libraries\n",
    "from pyspark.sql import SparkSession, Window\n",
    "from pyspark.sql.functions import avg, col, concat, desc, explode, lit, min, max, split, udf, sum as Fsum, current_date,\\\n",
    "from_unixtime, datediff, current_date, countDistinct, month, substring, count, when, isnull\n",
    "from pyspark.sql.types import IntegerType, StringType, FloatType, DateType, Row\n",
    "\n",
    "from pyspark.ml import Pipeline\n",
    "from pyspark.ml.classification import LogisticRegression, RandomForestClassifier, GBTClassifier\n",
    "from pyspark.ml.evaluation import MulticlassClassificationEvaluator\n",
    "from pyspark.ml.feature import CountVectorizer, IDF, Normalizer,PCA, RegexTokenizer, StandardScaler, StopWordsRemover,\\\n",
    "StringIndexer, VectorAssembler, MinMaxScaler\n",
    "from pyspark.ml.tuning import CrossValidator, ParamGridBuilder\n",
    "from pyspark.ml.linalg import DenseVector, SparseVector\n",
    "\n",
    "import re\n",
    "import seaborn as sns\n",
    "import time\n",
    "import numpy as np\n",
    "import matplotlib.pyplot as plt\n",
    "import pandas as pd"
   ]
  },
  {
   "cell_type": "code",
   "execution_count": 2,
   "metadata": {},
   "outputs": [],
   "source": [
    "# create a Spark session\n",
    "spark = SparkSession.builder.master(\"local\").appName(\"Spark Project\").getOrCreate()"
   ]
  },
  {
   "cell_type": "markdown",
   "metadata": {},
   "source": [
    "# 加载和清洗数据\n",
    "在这个 Workspace 中，小数据集的名称是 `mini_sparkify_event_data.json`.加载和清洗数据集，检查是否有无效或缺失数据——例如，没有userid或sessionid的数据。 "
   ]
  },
  {
   "cell_type": "code",
   "execution_count": 3,
   "metadata": {},
   "outputs": [],
   "source": [
    "data_path = \"mini_sparkify_event_data.json\""
   ]
  },
  {
   "cell_type": "code",
   "execution_count": 4,
   "metadata": {},
   "outputs": [
    {
     "data": {
      "text/plain": [
       "DataFrame[artist: string, auth: string, firstName: string, gender: string, itemInSession: bigint, lastName: string, length: double, level: string, location: string, method: string, page: string, registration: bigint, sessionId: bigint, song: string, status: bigint, ts: bigint, userAgent: string, userId: string]"
      ]
     },
     "execution_count": 4,
     "metadata": {},
     "output_type": "execute_result"
    }
   ],
   "source": [
    "df = spark.read.json(data_path)\n",
    "df.persist()"
   ]
  },
  {
   "cell_type": "markdown",
   "metadata": {},
   "source": [
    "查看数据集"
   ]
  },
  {
   "cell_type": "code",
   "execution_count": 5,
   "metadata": {},
   "outputs": [
    {
     "name": "stdout",
     "output_type": "stream",
     "text": [
      "root\n",
      " |-- artist: string (nullable = true)\n",
      " |-- auth: string (nullable = true)\n",
      " |-- firstName: string (nullable = true)\n",
      " |-- gender: string (nullable = true)\n",
      " |-- itemInSession: long (nullable = true)\n",
      " |-- lastName: string (nullable = true)\n",
      " |-- length: double (nullable = true)\n",
      " |-- level: string (nullable = true)\n",
      " |-- location: string (nullable = true)\n",
      " |-- method: string (nullable = true)\n",
      " |-- page: string (nullable = true)\n",
      " |-- registration: long (nullable = true)\n",
      " |-- sessionId: long (nullable = true)\n",
      " |-- song: string (nullable = true)\n",
      " |-- status: long (nullable = true)\n",
      " |-- ts: long (nullable = true)\n",
      " |-- userAgent: string (nullable = true)\n",
      " |-- userId: string (nullable = true)\n",
      "\n"
     ]
    }
   ],
   "source": [
    "df.printSchema()"
   ]
  },
  {
   "cell_type": "code",
   "execution_count": 6,
   "metadata": {},
   "outputs": [
    {
     "name": "stdout",
     "output_type": "stream",
     "text": [
      "+--------------------+\n",
      "|                page|\n",
      "+--------------------+\n",
      "|              Cancel|\n",
      "|    Submit Downgrade|\n",
      "|         Thumbs Down|\n",
      "|                Home|\n",
      "|           Downgrade|\n",
      "|         Roll Advert|\n",
      "|              Logout|\n",
      "|       Save Settings|\n",
      "|Cancellation Conf...|\n",
      "|               About|\n",
      "| Submit Registration|\n",
      "|            Settings|\n",
      "|               Login|\n",
      "|            Register|\n",
      "|     Add to Playlist|\n",
      "|          Add Friend|\n",
      "|            NextSong|\n",
      "|           Thumbs Up|\n",
      "|                Help|\n",
      "|             Upgrade|\n",
      "+--------------------+\n",
      "only showing top 20 rows\n",
      "\n"
     ]
    }
   ],
   "source": [
    "# 查看访问页面的种类\n",
    "df.select(\"page\").distinct().show()"
   ]
  },
  {
   "cell_type": "markdown",
   "metadata": {},
   "source": [
    "因为需要使用userId进行聚合，查看是否存在userId为空的数据，并将其删除"
   ]
  },
  {
   "cell_type": "code",
   "execution_count": 7,
   "metadata": {},
   "outputs": [
    {
     "data": {
      "text/plain": [
       "8346"
      ]
     },
     "execution_count": 7,
     "metadata": {},
     "output_type": "execute_result"
    }
   ],
   "source": [
    "df.filter(\"userId = ''\").count()"
   ]
  },
  {
   "cell_type": "code",
   "execution_count": 8,
   "metadata": {},
   "outputs": [
    {
     "data": {
      "text/plain": [
       "278154"
      ]
     },
     "execution_count": 8,
     "metadata": {},
     "output_type": "execute_result"
    }
   ],
   "source": [
    "df = df.filter(\"userId != ''\")\n",
    "df.count()"
   ]
  },
  {
   "cell_type": "markdown",
   "metadata": {},
   "source": [
    "# 探索性数据分析\n",
    "当你使用完整数据集时，通过加载小数据集，在 Spark 中完成基础操作来实现探索性数据分析。在这个 Workspace 中，我们已经提供给你一个你可以探索的小数据集。\n",
    "\n",
    "### 定义客户流失\n",
    "\n",
    "在你完成初步分析之后，创建一列 `Churn` 作为模型的标签。我建议你使用 `Cancellation Confirmation` 事件来定义客户流失，该事件在付费或免费客户身上都有发生。作为一个奖励任务，你也可以深入了解 `Downgrade` 事件。\n",
    "\n",
    "### 探索数据\n",
    "你定义好客户流失后，就可以执行一些探索性数据分析，观察留存用户和流失用户的行为。你可以首先把这两类用户的数据聚合到一起，观察固定时间内某个特定动作出现的次数或者播放音乐的数量。"
   ]
  },
  {
   "cell_type": "code",
   "execution_count": 9,
   "metadata": {},
   "outputs": [],
   "source": [
    "flag_cancel_confirmation = udf(lambda x : 1 if x == \"Cancellation Confirmation\" else 0, IntegerType())\n",
    "df = df.withColumn(\"cancelled\", flag_cancel_confirmation(\"page\"))"
   ]
  },
  {
   "cell_type": "code",
   "execution_count": 10,
   "metadata": {},
   "outputs": [],
   "source": [
    "windowval = Window.partitionBy(\"userId\").orderBy(desc(\"ts\")).rangeBetween(Window.unboundedPreceding,0)\n",
    "\n",
    "df = df.withColumn(\"churn\",Fsum(\"cancelled\").over(windowval))"
   ]
  },
  {
   "cell_type": "markdown",
   "metadata": {},
   "source": [
    "1 查看用户性别比例，以及是否注销与性别的关系"
   ]
  },
  {
   "cell_type": "code",
   "execution_count": 11,
   "metadata": {},
   "outputs": [],
   "source": [
    "gender = df.dropDuplicates([\"userId\",\"gender\"]).groupby([\"churn\",\"gender\"]).count().toPandas()"
   ]
  },
  {
   "cell_type": "code",
   "execution_count": 12,
   "metadata": {},
   "outputs": [
    {
     "data": {
      "text/plain": [
       "Text(0.5,1,'churn_gender')"
      ]
     },
     "execution_count": 12,
     "metadata": {},
     "output_type": "execute_result"
    },
    {
     "data": {
      "image/png": "[encoded data removed]",
      "text/plain": [
       "<matplotlib.figure.Figure at 0x7fea5589e828>"
      ]
     },
     "metadata": {
      "needs_background": "light"
     },
     "output_type": "display_data"
    }
   ],
   "source": [
    "sns.barplot(x=\"gender\", y=\"count\", hue=\"churn\",data=gender).set_title(\"churn_gender\")"
   ]
  },
  {
   "cell_type": "markdown",
   "metadata": {},
   "source": [
    "- 总量流失使用中男性多于女性，但差别不大\n",
    "\n",
    "2 查看付费用户与免费用户中流失用户数量的差别"
   ]
  },
  {
   "cell_type": "code",
   "execution_count": 13,
   "metadata": {},
   "outputs": [
    {
     "data": {
      "text/plain": [
       "Text(0.5,1,'churn_level')"
      ]
     },
     "execution_count": 13,
     "metadata": {},
     "output_type": "execute_result"
    },
    {
     "data": {
      "image/png": "[encoded data removed]",
      "text/plain": [
       "<matplotlib.figure.Figure at 0x7fea557e81d0>"
      ]
     },
     "metadata": {
      "needs_background": "light"
     },
     "output_type": "display_data"
    }
   ],
   "source": [
    "gender = df.dropDuplicates([\"userId\",\"level\"]).groupby([\"churn\",\"level\"]).count().toPandas()\n",
    "sns.barplot(x=\"level\", y=\"count\", hue=\"churn\",data=gender).set_title(\"churn_level\")"
   ]
  },
  {
   "cell_type": "markdown",
   "metadata": {},
   "source": [
    "- 付费用户与免费用户流失比例相差不大\n",
    "\n",
    "3 查看注销与否和注册时长的关系"
   ]
  },
  {
   "cell_type": "code",
   "execution_count": 14,
   "metadata": {},
   "outputs": [],
   "source": [
    "reg_time_churn = df.filter(\"churn = 1\").groupBy(\"userId\").agg({\"ts\":\"max\",\"registration\":\"max\"})\\\n",
    ".withColumnRenamed(\"max(ts)\", \"max_ts\").withColumnRenamed(\"max(registration)\", \"reg\")\n",
    "cal_reg = udf(lambda x,y : (x-y)/86400000, FloatType())\n",
    "reg_time_churn = reg_time_churn.withColumn(\"reg_time\",cal_reg(reg_time_churn.max_ts,reg_time_churn.reg)).toPandas()"
   ]
  },
  {
   "cell_type": "code",
   "execution_count": 15,
   "metadata": {},
   "outputs": [
    {
     "data": {
      "text/plain": [
       "<matplotlib.axes._subplots.AxesSubplot at 0x7fea558aa5c0>"
      ]
     },
     "execution_count": 15,
     "metadata": {},
     "output_type": "execute_result"
    },
    {
     "data": {
      "image/png": "[encoded data removed]",
      "text/plain": [
       "<matplotlib.figure.Figure at 0x7fea55759080>"
      ]
     },
     "metadata": {
      "needs_background": "light"
     },
     "output_type": "display_data"
    }
   ],
   "source": [
    "sns.distplot(reg_time_churn.reg_time, bins = 30,hist=True,label = 'reg')"
   ]
  },
  {
   "cell_type": "code",
   "execution_count": 16,
   "metadata": {},
   "outputs": [
    {
     "data": {
      "text/plain": [
       "<matplotlib.axes._subplots.AxesSubplot at 0x7fea5567fba8>"
      ]
     },
     "execution_count": 16,
     "metadata": {},
     "output_type": "execute_result"
    },
    {
     "data": {
      "image/png": "[encoded data removed]",
      "text/plain": [
       "<matplotlib.figure.Figure at 0x7fea55729828>"
      ]
     },
     "metadata": {
      "needs_background": "light"
     },
     "output_type": "display_data"
    }
   ],
   "source": [
    "reg_time = df.filter(\"churn = 0\").groupBy(\"userId\").agg({\"ts\":\"max\",\"registration\":\"max\"})\\\n",
    ".withColumnRenamed(\"max(ts)\", \"max_ts\").withColumnRenamed(\"max(registration)\", \"reg\")\n",
    "cal_reg = udf(lambda x,y : (x-y)/86400000, FloatType())\n",
    "reg_time = reg_time.withColumn(\"reg_time\",cal_reg(reg_time.max_ts,reg_time.reg)).toPandas()\n",
    "sns.distplot(reg_time.reg_time, bins = 30,hist=True,label = 'reg')"
   ]
  },
  {
   "cell_type": "markdown",
   "metadata": {},
   "source": [
    "- 注销的用户的注册时间在100天以内的居多,集中在注册50天左右\n",
    "\n",
    "4 查看itemInSession与是否注销的关系"
   ]
  },
  {
   "cell_type": "code",
   "execution_count": 17,
   "metadata": {
    "scrolled": true
   },
   "outputs": [
    {
     "data": {
      "image/png": "[encoded data removed]",
      "text/plain": [
       "<matplotlib.figure.Figure at 0x7fea556fd5f8>"
      ]
     },
     "metadata": {
      "needs_background": "light"
     },
     "output_type": "display_data"
    }
   ],
   "source": [
    "itemInSession_df = df.groupBy(['userId','churn']).avg('itemInSession').toPandas()\n",
    "g = sns.FacetGrid(itemInSession_df, col=\"churn\", sharey=False)\n",
    "g.map(plt.hist, \"avg(itemInSession)\");"
   ]
  },
  {
   "cell_type": "markdown",
   "metadata": {},
   "source": [
    "- 由于数据的量比较小，分布差别不大\n",
    "\n",
    "5 查看地区与注销与否的关系"
   ]
  },
  {
   "cell_type": "code",
   "execution_count": 18,
   "metadata": {
    "scrolled": true
   },
   "outputs": [
    {
     "name": "stdout",
     "output_type": "stream",
     "text": [
      "+-----+-----+-----+\n",
      "|churn|state|count|\n",
      "+-----+-----+-----+\n",
      "|    0|   CA|39158|\n",
      "|    0|   PA|23708|\n",
      "|    0|   TX|22200|\n",
      "|    0|   NH|18637|\n",
      "|    0|   FL|11427|\n",
      "+-----+-----+-----+\n",
      "only showing top 5 rows\n",
      "\n",
      "+-----+-----+-----+\n",
      "|churn|state|count|\n",
      "+-----+-----+-----+\n",
      "|    1|   CA| 7613|\n",
      "|    1|   CO| 4317|\n",
      "|    1|   MS| 3839|\n",
      "|    1|   WA| 3526|\n",
      "|    1|   OH| 3173|\n",
      "+-----+-----+-----+\n",
      "only showing top 5 rows\n",
      "\n"
     ]
    }
   ],
   "source": [
    "df = df.withColumn('state',substring(col('location'), -2, 3))\n",
    "\n",
    "df.groupBy(['churn','state']).count().where(df['churn']==0).sort(col('count').desc()).show(5)\n",
    "df.groupBy(['churn','state']).count().where(df['churn']==1).sort(col('count').desc()).show(5)"
   ]
  },
  {
   "cell_type": "code",
   "execution_count": 19,
   "metadata": {},
   "outputs": [
    {
     "name": "stdout",
     "output_type": "stream",
     "text": [
      "39\n",
      "225\n"
     ]
    }
   ],
   "source": [
    "print(df.select('state').distinct().count())\n",
    "print(df.select('userId').distinct().count())"
   ]
  },
  {
   "cell_type": "markdown",
   "metadata": {},
   "source": [
    "- 值得注意的是，user一共就225个但是地区就有39个"
   ]
  },
  {
   "cell_type": "markdown",
   "metadata": {},
   "source": [
    "6 查看userAgent与用户是否注销的关系\n"
   ]
  },
  {
   "cell_type": "code",
   "execution_count": 20,
   "metadata": {},
   "outputs": [],
   "source": [
    "find_user_agent = udf(lambda x : re.findall(r\"Mozilla/5.0 \\((.+?)\\)\",x),StringType())\n",
    "df = df.withColumn('new_ua',find_user_agent('userAgent'))"
   ]
  },
  {
   "cell_type": "code",
   "execution_count": 21,
   "metadata": {},
   "outputs": [
    {
     "name": "stdout",
     "output_type": "stream",
     "text": [
      "+--------------------+-----+\n",
      "|              new_ua|count|\n",
      "+--------------------+-----+\n",
      "|[Macintosh; Intel...|11140|\n",
      "|[Windows NT 6.1; ...| 7129|\n",
      "|[Windows NT 6.1; ...| 3437|\n",
      "|[Windows NT 6.3; ...| 3003|\n",
      "|[Macintosh; Intel...| 2462|\n",
      "|    [Windows NT 5.1]| 2168|\n",
      "|[Windows NT 6.2; ...| 2149|\n",
      "|[Macintosh; Intel...| 2064|\n",
      "|[Windows NT 6.1; ...| 1781|\n",
      "|[X11; Ubuntu; Lin...| 1557|\n",
      "|[Macintosh; Intel...| 1502|\n",
      "|[Windows NT 6.1; ...| 1476|\n",
      "|    [Windows NT 6.1]| 1392|\n",
      "|[Windows NT 6.1; ...| 1102|\n",
      "|[Windows NT 6.3; ...| 1064|\n",
      "|[iPhone; CPU iPho...| 1010|\n",
      "|[Macintosh; Intel...|  187|\n",
      "| [X11; Linux x86_64]|  143|\n",
      "|[X11; Ubuntu; Lin...|   62|\n",
      "|[Windows NT 6.1; ...|   36|\n",
      "+--------------------+-----+\n",
      "\n"
     ]
    }
   ],
   "source": [
    "df.filter('churn = 1').groupby('new_ua').count().sort(col('count').desc()).show()"
   ]
  },
  {
   "cell_type": "code",
   "execution_count": 22,
   "metadata": {},
   "outputs": [
    {
     "name": "stdout",
     "output_type": "stream",
     "text": [
      "+--------------------+-----+\n",
      "|              new_ua|count|\n",
      "+--------------------+-----+\n",
      "|[Macintosh; Intel...|61529|\n",
      "|[Windows NT 6.1; ...|51892|\n",
      "|[Windows NT 6.1; ...|15224|\n",
      "|[Windows NT 6.3; ...| 9538|\n",
      "|[iPad; CPU OS 7_1...| 8912|\n",
      "|    [Windows NT 6.1]| 8663|\n",
      "|[compatible; MSIE...| 8624|\n",
      "|[Macintosh; Intel...| 7838|\n",
      "|[Macintosh; Intel...| 7038|\n",
      "|[iPhone; CPU iPho...| 5407|\n",
      "|    [Windows NT 5.1]| 5238|\n",
      "|[Windows NT 6.3; ...| 4925|\n",
      "| [X11; Linux x86_64]| 4338|\n",
      "|[Windows NT 6.2; ...| 3278|\n",
      "|[Windows NT 6.1; ...| 3214|\n",
      "|[Windows NT 6.1; ...| 2882|\n",
      "|[iPhone; CPU iPho...| 2799|\n",
      "|[X11; Linux x86_6...| 2544|\n",
      "|[iPad; CPU OS 7_1...| 2469|\n",
      "|[Windows NT 6.0; ...| 2442|\n",
      "+--------------------+-----+\n",
      "only showing top 20 rows\n",
      "\n"
     ]
    }
   ],
   "source": [
    "df.filter('churn = 0').groupby('new_ua').count().sort(col('count').desc()).show()"
   ]
  },
  {
   "cell_type": "markdown",
   "metadata": {},
   "source": [
    "# 特征工程  \n",
    "我决定使用以下特征值  \n",
    "- 注册天数\n",
    "- 每天访问次数"
   ]
  },
  {
   "cell_type": "code",
   "execution_count": 23,
   "metadata": {},
   "outputs": [],
   "source": [
    "# 注册时间->注册日期\n",
    "df = df.withColumn(\"reg_date\",from_unixtime(col('registration')/1000).cast(DateType()))\n",
    "\n",
    "# 注册日期->注册天数\n",
    "df = df.withColumn(\"days_since_reg\", datediff(current_date(), col('reg_date')))"
   ]
  },
  {
   "cell_type": "code",
   "execution_count": 24,
   "metadata": {},
   "outputs": [],
   "source": [
    "# 每天访问次数\n",
    "# ts -> Date\n",
    "df = df.withColumn('date', from_unixtime(col('ts')/1000).cast(DateType()))\n",
    "# Date -> month\n",
    "df = df.withColumn('month',month('date'))\n",
    "# 计算每天的访问次数\n",
    "day_df = df.groupBy(['userId','date']).agg(countDistinct('sessionId')).groupBy('userId')\\\n",
    ".avg('count(DISTINCT sessionId)').withColumnRenamed('avg(count(DISTINCT sessionId))','daily_session')\n",
    "df = df.join(day_df, on='userId')\n",
    "# 计算每个月的平均访问天数\n",
    "month_df = df.groupBy(['userId','month']).agg(countDistinct('date')).groupBy('userId')\\\n",
    ".avg('count(DISTINCT date)').withColumnRenamed('avg(count(DISTINCT date))','monthly_day')\n",
    "df = df.join(month_df, on='userId')"
   ]
  },
  {
   "cell_type": "code",
   "execution_count": 25,
   "metadata": {},
   "outputs": [],
   "source": [
    "# 统计各个page的访问数量\n",
    "for p in ['Downgrade','Roll Advert','Thumbs Down','Add to Playlist','Add Friend','Thumbs Up']:\n",
    "    df = df.withColumn(p, (df['page']==p).cast(IntegerType()))"
   ]
  },
  {
   "cell_type": "code",
   "execution_count": 26,
   "metadata": {},
   "outputs": [],
   "source": [
    "features = df.groupBy('userId').agg({'itemInSession':'avg',\n",
    "                                   'length':'avg',\n",
    "                                   'daily_session':'min',\n",
    "                                   'monthly_day':'min',\n",
    "                                   'days_since_reg':'min',\n",
    "                                   'level':'max',\n",
    "                                   'new_ua':'max',\n",
    "                                   'state':'max',\n",
    "                                   'churn':'max',\n",
    "                                   'Downgrade':'sum',\n",
    "                                   'Roll Advert':'sum',\n",
    "                                   'Thumbs Down':'sum',\n",
    "                                   'Add to Playlist':'sum',\n",
    "                                   'Add Friend':'sum',\n",
    "                                   'Thumbs Up':'sum'})\n",
    "                                   \n",
    "\n",
    "features = features.select(col('avg(itemInSession)').alias('itemInSession'),\n",
    "                                 col('avg(length)').alias('length'),\n",
    "                                 col('min(daily_session)').alias('daily_session'),\n",
    "                                 col('min(monthly_day)').alias('monthly_day'),\n",
    "                                 col('min(days_since_reg)').alias('days_since_reg'),\n",
    "                  col('max(level)').alias('level'),\n",
    "                  col('max(new_ua)').alias('userAgent'),\n",
    "                  col('max(state)').alias('state'),\n",
    "                  col('sum(Downgrade)').alias('downgrade'),\n",
    "                  col('sum(Roll Advert)').alias('rollAdvert'),\n",
    "                  col('sum(Thumbs Down)').alias('thumbsDown'),\n",
    "                  col('sum(Add to Playlist)').alias('addToPlaylist'),\n",
    "                  col('sum(Add Friend)').alias('addFriend'),\n",
    "                  col('sum(Thumbs Up)').alias('thumbsUp'),\n",
    "                  col('max(churn)').alias('label'))"
   ]
  },
  {
   "cell_type": "code",
   "execution_count": 27,
   "metadata": {},
   "outputs": [
    {
     "name": "stdout",
     "output_type": "stream",
     "text": [
      "+-------------+------+-------------+-----------+--------------+-----+---------+-----+---------+----------+----------+-------------+---------+--------+-----+\n",
      "|itemInSession|length|daily_session|monthly_day|days_since_reg|level|userAgent|state|downgrade|rollAdvert|thumbsDown|addToPlaylist|addFriend|thumbsUp|label|\n",
      "+-------------+------+-------------+-----------+--------------+-----+---------+-----+---------+----------+----------+-------------+---------+--------+-----+\n",
      "|            0|     0|            0|          0|             0|    0|        0|    0|        0|         0|         0|            0|        0|       0|    0|\n",
      "+-------------+------+-------------+-----------+--------------+-----+---------+-----+---------+----------+----------+-------------+---------+--------+-----+\n",
      "\n"
     ]
    }
   ],
   "source": [
    "# 查看有没有空值\n",
    "features.select([count(when(isnull(c), c)).alias(c) for c in features.columns]).show()"
   ]
  },
  {
   "cell_type": "markdown",
   "metadata": {},
   "source": [
    "# 建模\n",
    "将完整数据集分成训练集、测试集和验证集。测试几种你学过的机器学习方法。评价不同机器学习方法的准确率，根据情况调节参数。根据准确率你挑选出表现最好的那个模型，然后报告在训练集上的结果。因为流失顾客数据集很小，我建议选用 F1 score 作为优化指标。"
   ]
  },
  {
   "cell_type": "code",
   "execution_count": 36,
   "metadata": {},
   "outputs": [],
   "source": [
    "indexer_state = StringIndexer(inputCol='state', outputCol='state_index')\n",
    "indexer_level = StringIndexer(inputCol='level', outputCol='level_index')\n",
    "indexer_ua = StringIndexer(inputCol='userAgent', outputCol='userAgent_index')\n",
    "# 将各个特征整合成向量\n",
    "assembler = VectorAssembler(inputCols=[#'itemInSession',\n",
    "                                      'length',\n",
    "                                      'daily_session',\n",
    "                                      'monthly_day',\n",
    "                                      'days_since_reg',\n",
    "                                      'level_index',\n",
    "                                      #'state_index',\n",
    "                                      #'userAgent_index',\n",
    "                                      'downgrade',\n",
    "                                      'rollAdvert',\n",
    "                                      'thumbsDown',\n",
    "                                      'addToPlaylist',\n",
    "                                      'addFriend',\n",
    "                                      'thumbsUp'], outputCol='NumFeatures')\n",
    "# 使用\n",
    "scaler = StandardScaler(inputCol=\"NumFeatures\", outputCol=\"features\")\n",
    "\n",
    "features_pipeline = Pipeline(stages=[indexer_state, indexer_level, indexer_ua, assembler, scaler])\n",
    "\n",
    "model_df = features_pipeline.fit(features).transform(features)"
   ]
  },
  {
   "cell_type": "code",
   "execution_count": 48,
   "metadata": {},
   "outputs": [],
   "source": [
    "# 将稀疏向量转成稠密向量\n",
    "model_df_clean = model_df.select(['label','features'])\n",
    "df2 = model_df.select(\"label\", \"features\")\n",
    "rdd = df2.rdd.map(lambda x: Row(label=x[0],features=DenseVector(x[1].toArray()))\n",
    "                     if (len(x)>1 and hasattr(x[1], \"toArray\"))\n",
    "                     else Row(label=None, features=DenseVector([])))\n",
    "model_data = spark.createDataFrame(rdd)"
   ]
  },
  {
   "cell_type": "code",
   "execution_count": 49,
   "metadata": {},
   "outputs": [],
   "source": [
    "# 分割训练集和测试集\n",
    "train, test = model_data.randomSplit([0.8, 0.2], seed=42)"
   ]
  },
  {
   "cell_type": "code",
   "execution_count": 39,
   "metadata": {},
   "outputs": [],
   "source": [
    "def cal_f1_score(train,test,model):\n",
    "    start_time = time.time()\n",
    "    result = model.fit(train)\n",
    "    prediction = result.transform(test)\n",
    "    end_time = time.time()\n",
    "    \n",
    "    f1_score_evaluator = MulticlassClassificationEvaluator(metricName='f1')\n",
    "    f1_score = f1_score_evaluator.evaluate(prediction.select(col('label'), col('prediction')))\n",
    "    print('Run Time is {}'.format(np.round(((end_time - start_time)/60),2)))\n",
    "    print('The F1-Score is {}'.format(f1_score))"
   ]
  },
  {
   "cell_type": "code",
   "execution_count": 50,
   "metadata": {},
   "outputs": [
    {
     "data": {
      "text/plain": [
       "[Row(features=DenseVector([40.8826, 5.4418, 0.6554, 17.8695, 0.0, 0.4261, 0.3248, 0.4588, 0.2445, 0.1943, 0.3207]), label=0),\n",
       " Row(features=DenseVector([43.9493, 5.4418, 0.1872, 18.9543, 2.2563, 0.0, 0.0464, 0.0, 0.0, 0.0, 0.0]), label=1),\n",
       " Row(features=DenseVector([41.7179, 6.6977, 2.4342, 17.2366, 0.0, 1.96, 0.0, 1.6058, 1.5894, 1.3604, 1.5272]), label=1),\n",
       " Row(features=DenseVector([42.6739, 5.4418, 0.749, 17.7188, 2.2563, 0.0, 0.7425, 0.0765, 0.1528, 0.0486, 0.1069]), label=0),\n",
       " Row(features=DenseVector([42.1395, 8.6016, 2.9023, 19.1652, 0.0, 3.3236, 2.181, 2.2176, 2.2007, 1.6034, 2.4894]), label=1)]"
      ]
     },
     "execution_count": 50,
     "metadata": {},
     "output_type": "execute_result"
    }
   ],
   "source": [
    "train.head(5)"
   ]
  },
  {
   "cell_type": "code",
   "execution_count": 51,
   "metadata": {},
   "outputs": [
    {
     "name": "stdout",
     "output_type": "stream",
     "text": [
      "Run Time is 4.57\n",
      "The F1-Score is 0.7638831756478816\n",
      "Run Time is 1.67\n",
      "The F1-Score is 0.686815415821501\n",
      "Run Time is 6.31\n",
      "The F1-Score is 0.6097105508870214\n"
     ]
    }
   ],
   "source": [
    "# 逻辑回归\n",
    "model = LogisticRegression()\n",
    "cal_f1_score(train,test,model)\n",
    "\n",
    "# 随机森林\n",
    "model = RandomForestClassifier()\n",
    "cal_f1_score(train,test,model)\n",
    "\n",
    "# 集成方法\n",
    "model = GBTClassifier()\n",
    "cal_f1_score(train,test,model)"
   ]
  },
  {
   "cell_type": "markdown",
   "metadata": {},
   "source": [
    "目前看起来逻辑回归的效果最好，我们调整一下参数尝试"
   ]
  },
  {
   "cell_type": "code",
   "execution_count": 53,
   "metadata": {},
   "outputs": [
    {
     "name": "stdout",
     "output_type": "stream",
     "text": [
      "For GBTClassifier_eca1efb60705, the accuracy on the test set is 79.41% and the F-1 score is 0.7412515245332583\n"
     ]
    }
   ],
   "source": [
    "lrs =  LogisticRegression()\n",
    "paramGrid = ParamGridBuilder() \\\n",
    "    .addGrid(lrs.maxIter, [10, 20]) \\\n",
    "    .addGrid(lrs.elasticNetParam,[0.0, 0.5]) \\\n",
    "    .addGrid(lrs.regParam,[0.01, 0.1]) \\\n",
    "    .build()\n",
    "\n",
    "crossval = CrossValidator(estimator = Pipeline(stages=[lrs]),\n",
    "                         estimatorParamMaps = paramGrid,\n",
    "                         evaluator = MulticlassClassificationEvaluator(metricName='f1'),\n",
    "                         numFolds = 3)\n",
    "\n",
    "classification = crossval.fit(train)\n",
    "results = classification.transform(test)\n",
    "\n",
    "# 计算准确率和f1分数\n",
    "accuracy_evaluator = MulticlassClassificationEvaluator(metricName='accuracy')\n",
    "accuracy = accuracy_evaluator.evaluate(results.select(col('label'), col('prediction')))\n",
    "\n",
    "f1_score_evaluator = MulticlassClassificationEvaluator(metricName='f1')\n",
    "f1_score = f1_score_evaluator.evaluate(results.select(col('label'), col('prediction')))\n",
    "\n",
    "print('For {}, the accuracy on the test set is {:.2%} and the F-1 score is {}'\\\n",
    ".format(model, accuracy, f1_score))"
   ]
  },
  {
   "cell_type": "markdown",
   "metadata": {},
   "source": [
    "### 总结\n",
    "- 本次由于数据集较小可能会导致测试集上的预测准确率下降\n",
    "- 尝试了逻辑回归模型，决策树和集成方法，其中逻辑回归的f1分数最高\n",
    "- 一开始使用MinMaxScaler进行转换，结果一些较小的值都被转换为0，导致预测精度下降\n",
    "- 本次项目是根据截至当前的用户行为数据来预测用户是否注销，但是实际上工作中肯定预测的是未来一段时间用户是否注销。\n",
    "- 本次使用的特征以外，细想一下还有很多特征值得尝试，譬如喜欢的音乐家数量，听歌数量，所在地变更情况等等\n"
   ]
  }
 ],
 "metadata": {
  "kernelspec": {
   "display_name": "Python 3",
   "language": "python",
   "name": "python3"
  },
  "language_info": {
   "codemirror_mode": {
    "name": "ipython",
    "version": 3
   },
   "file_extension": ".py",
   "mimetype": "text/x-python",
   "name": "python",
   "nbconvert_exporter": "python",
   "pygments_lexer": "ipython3",
   "version": "3.6.3"
  }
 },
 "nbformat": 4,
 "nbformat_minor": 2
}
