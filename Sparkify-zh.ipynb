{
 "cells": [
  {
   "cell_type": "markdown",
   "metadata": {},
   "source": [
    "# Sparkify 流失用户分析\n",
    "Sparkify是一个国外的音乐平台，本文将介绍预测Sparkify流失用户的过程。我们使用的数据是Sparkify的用户使用log，其中包含用户听的歌曲，时长，艺术家，访问页面，注册时间，地区等等数据，完整的数据集有12G，但因本文是使用单节点Spark来进行数据分析和建模的实验，为了加快速度仅使用其中一部分128M的数据。"
   ]
  },
  {
   "cell_type": "code",
   "execution_count": 1,
   "metadata": {},
   "outputs": [],
   "source": [
    "# 加载所拥到的库\n",
    "from pyspark.sql import SparkSession, Window\n",
    "from pyspark.sql.functions import avg, col, concat, desc, explode, lit, min, max, split, udf, sum as Fsum, current_date,\\\n",
    "from_unixtime, datediff, current_date, countDistinct, month, substring, count, when, isnull\n",
    "from pyspark.sql.types import IntegerType, StringType, FloatType, DateType, Row\n",
    "\n",
    "from pyspark.ml import Pipeline\n",
    "from pyspark.ml.classification import LogisticRegression, RandomForestClassifier, GBTClassifier\n",
    "from pyspark.ml.evaluation import MulticlassClassificationEvaluator\n",
    "from pyspark.ml.feature import CountVectorizer, IDF, Normalizer,PCA, RegexTokenizer, StandardScaler, StopWordsRemover,\\\n",
    "StringIndexer, VectorAssembler, MinMaxScaler\n",
    "from pyspark.ml.tuning import CrossValidator, ParamGridBuilder\n",
    "from pyspark.ml.linalg import DenseVector, SparseVector\n",
    "\n",
    "import re\n",
    "import seaborn as sns\n",
    "import time\n",
    "import numpy as np\n",
    "import matplotlib.pyplot as plt\n",
    "import pandas as pd"
   ]
  },
  {
   "cell_type": "code",
   "execution_count": 2,
   "metadata": {},
   "outputs": [],
   "source": [
    "# create a Spark session\n",
    "spark = SparkSession.builder.master(\"local\").appName(\"Spark Project\").getOrCreate()"
   ]
  },
  {
   "cell_type": "markdown",
   "metadata": {},
   "source": [
    "# 加载和清洗数据 "
   ]
  },
  {
   "cell_type": "code",
   "execution_count": 3,
   "metadata": {},
   "outputs": [],
   "source": [
    "data_path = \"mini_sparkify_event_data.json\""
   ]
  },
  {
   "cell_type": "code",
   "execution_count": 4,
   "metadata": {
    "scrolled": true
   },
   "outputs": [
    {
     "data": {
      "text/plain": [
       "DataFrame[artist: string, auth: string, firstName: string, gender: string, itemInSession: bigint, lastName: string, length: double, level: string, location: string, method: string, page: string, registration: bigint, sessionId: bigint, song: string, status: bigint, ts: bigint, userAgent: string, userId: string]"
      ]
     },
     "execution_count": 4,
     "metadata": {},
     "output_type": "execute_result"
    }
   ],
   "source": [
    "df = spark.read.json(data_path)\n",
    "df.persist()"
   ]
  },
  {
   "cell_type": "markdown",
   "metadata": {},
   "source": [
    "查看数据集"
   ]
  },
  {
   "cell_type": "code",
   "execution_count": 5,
   "metadata": {},
   "outputs": [
    {
     "name": "stdout",
     "output_type": "stream",
     "text": [
      "root\n",
      " |-- artist: string (nullable = true)\n",
      " |-- auth: string (nullable = true)\n",
      " |-- firstName: string (nullable = true)\n",
      " |-- gender: string (nullable = true)\n",
      " |-- itemInSession: long (nullable = true)\n",
      " |-- lastName: string (nullable = true)\n",
      " |-- length: double (nullable = true)\n",
      " |-- level: string (nullable = true)\n",
      " |-- location: string (nullable = true)\n",
      " |-- method: string (nullable = true)\n",
      " |-- page: string (nullable = true)\n",
      " |-- registration: long (nullable = true)\n",
      " |-- sessionId: long (nullable = true)\n",
      " |-- song: string (nullable = true)\n",
      " |-- status: long (nullable = true)\n",
      " |-- ts: long (nullable = true)\n",
      " |-- userAgent: string (nullable = true)\n",
      " |-- userId: string (nullable = true)\n",
      "\n"
     ]
    }
   ],
   "source": [
    "df.printSchema()"
   ]
  },
  {
   "cell_type": "code",
   "execution_count": 6,
   "metadata": {},
   "outputs": [
    {
     "name": "stdout",
     "output_type": "stream",
     "text": [
      "+--------------------+\n",
      "|                page|\n",
      "+--------------------+\n",
      "|              Cancel|\n",
      "|    Submit Downgrade|\n",
      "|         Thumbs Down|\n",
      "|                Home|\n",
      "|           Downgrade|\n",
      "|         Roll Advert|\n",
      "|              Logout|\n",
      "|       Save Settings|\n",
      "|Cancellation Conf...|\n",
      "|               About|\n",
      "| Submit Registration|\n",
      "|            Settings|\n",
      "|               Login|\n",
      "|            Register|\n",
      "|     Add to Playlist|\n",
      "|          Add Friend|\n",
      "|            NextSong|\n",
      "|           Thumbs Up|\n",
      "|                Help|\n",
      "|             Upgrade|\n",
      "+--------------------+\n",
      "only showing top 20 rows\n",
      "\n"
     ]
    }
   ],
   "source": [
    "# 查看访问页面的种类\n",
    "df.select(\"page\").distinct().show()"
   ]
  },
  {
   "cell_type": "markdown",
   "metadata": {},
   "source": [
    "查看各个特征值的缺失值"
   ]
  },
  {
   "cell_type": "code",
   "execution_count": 7,
   "metadata": {},
   "outputs": [
    {
     "name": "stdout",
     "output_type": "stream",
     "text": [
      "-RECORD 0-----------------------------\n",
      " artist        | 0.20381151832460734  \n",
      " auth          | 0.0                  \n",
      " firstName     | 0.029130890052356022 \n",
      " gender        | 0.029130890052356022 \n",
      " itemInSession | 0.0                  \n",
      " lastName      | 0.029130890052356022 \n",
      " length        | 0.20381151832460734  \n",
      " level         | 0.0                  \n",
      " location      | 0.029130890052356022 \n",
      " method        | 0.0                  \n",
      " page          | 0.0                  \n",
      " registration  | 0.029130890052356022 \n",
      " sessionId     | 0.0                  \n",
      " song          | 0.20381151832460734  \n",
      " status        | 0.0                  \n",
      " ts            | 0.0                  \n",
      " userAgent     | 0.029130890052356022 \n",
      " userId        | 0.0                  \n",
      "\n"
     ]
    }
   ],
   "source": [
    "df.select([(count(when(isnull(c), c))/df.count()).alias(c) for c in df.columns]).show(vertical=True)"
   ]
  },
  {
   "cell_type": "markdown",
   "metadata": {},
   "source": [
    "可以发现firstName,gender,userId等缺失比例相同，我猜测缺失的是同一批数据"
   ]
  },
  {
   "cell_type": "code",
   "execution_count": 8,
   "metadata": {},
   "outputs": [
    {
     "name": "stdout",
     "output_type": "stream",
     "text": [
      "+------+----------+---------+------+-------------+--------+------+-----+--------+------+-----+------------+---------+----+------+-------------+---------+------+\n",
      "|artist|      auth|firstName|gender|itemInSession|lastName|length|level|location|method| page|registration|sessionId|song|status|           ts|userAgent|userId|\n",
      "+------+----------+---------+------+-------------+--------+------+-----+--------+------+-----+------------+---------+----+------+-------------+---------+------+\n",
      "|  null|Logged Out|     null|  null|          100|    null|  null| free|    null|   GET| Home|        null|        8|null|   200|1538355745000|     null|      |\n",
      "|  null|Logged Out|     null|  null|          101|    null|  null| free|    null|   GET| Help|        null|        8|null|   200|1538355807000|     null|      |\n",
      "|  null|Logged Out|     null|  null|          102|    null|  null| free|    null|   GET| Home|        null|        8|null|   200|1538355841000|     null|      |\n",
      "|  null|Logged Out|     null|  null|          103|    null|  null| free|    null|   PUT|Login|        null|        8|null|   307|1538355842000|     null|      |\n",
      "|  null|Logged Out|     null|  null|            2|    null|  null| free|    null|   GET| Home|        null|      240|null|   200|1538356678000|     null|      |\n",
      "|  null|Logged Out|     null|  null|            3|    null|  null| free|    null|   PUT|Login|        null|      240|null|   307|1538356679000|     null|      |\n",
      "|  null|Logged Out|     null|  null|            0|    null|  null| free|    null|   PUT|Login|        null|      100|null|   307|1538358102000|     null|      |\n",
      "|  null|Logged Out|     null|  null|            0|    null|  null| free|    null|   PUT|Login|        null|      241|null|   307|1538360117000|     null|      |\n",
      "|  null|Logged Out|     null|  null|           14|    null|  null| free|    null|   GET| Home|        null|      187|null|   200|1538361527000|     null|      |\n",
      "|  null|Logged Out|     null|  null|           15|    null|  null| free|    null|   PUT|Login|        null|      187|null|   307|1538361528000|     null|      |\n",
      "+------+----------+---------+------+-------------+--------+------+-----+--------+------+-----+------------+---------+----+------+-------------+---------+------+\n",
      "only showing top 10 rows\n",
      "\n"
     ]
    }
   ],
   "source": [
    "# 查看firstName缺失值\n",
    "df.where(col('firstName').isNull()).show(10)"
   ]
  },
  {
   "cell_type": "markdown",
   "metadata": {},
   "source": [
    "将userId为空的数据删除，并再次查看缺失值情况。"
   ]
  },
  {
   "cell_type": "code",
   "execution_count": 9,
   "metadata": {},
   "outputs": [
    {
     "name": "stdout",
     "output_type": "stream",
     "text": [
      "-RECORD 0----------------------------\n",
      " artist        | 0.17992191376000344 \n",
      " auth          | 0.0                 \n",
      " firstName     | 0.0                 \n",
      " gender        | 0.0                 \n",
      " itemInSession | 0.0                 \n",
      " lastName      | 0.0                 \n",
      " length        | 0.17992191376000344 \n",
      " level         | 0.0                 \n",
      " location      | 0.0                 \n",
      " method        | 0.0                 \n",
      " page          | 0.0                 \n",
      " registration  | 0.0                 \n",
      " sessionId     | 0.0                 \n",
      " song          | 0.17992191376000344 \n",
      " status        | 0.0                 \n",
      " ts            | 0.0                 \n",
      " userAgent     | 0.0                 \n",
      " userId        | 0.0                 \n",
      "\n"
     ]
    }
   ],
   "source": [
    "df = df.filter(\"userId != ''\")\n",
    "df.select([(count(when(isnull(c), c))/df.count()).alias(c) for c in df.columns]).show(vertical=True)"
   ]
  },
  {
   "cell_type": "code",
   "execution_count": 10,
   "metadata": {},
   "outputs": [
    {
     "data": {
      "text/plain": [
       "278154"
      ]
     },
     "execution_count": 10,
     "metadata": {},
     "output_type": "execute_result"
    }
   ],
   "source": [
    "df.count()"
   ]
  },
  {
   "cell_type": "markdown",
   "metadata": {},
   "source": [
    "另外我们发现ts,registration数据类型是timestamp，我们需要将其转换成DateType"
   ]
  },
  {
   "cell_type": "code",
   "execution_count": 11,
   "metadata": {},
   "outputs": [
    {
     "name": "stdout",
     "output_type": "stream",
     "text": [
      "root\n",
      " |-- artist: string (nullable = true)\n",
      " |-- auth: string (nullable = true)\n",
      " |-- firstName: string (nullable = true)\n",
      " |-- gender: string (nullable = true)\n",
      " |-- itemInSession: long (nullable = true)\n",
      " |-- lastName: string (nullable = true)\n",
      " |-- length: double (nullable = true)\n",
      " |-- level: string (nullable = true)\n",
      " |-- location: string (nullable = true)\n",
      " |-- method: string (nullable = true)\n",
      " |-- page: string (nullable = true)\n",
      " |-- registration: long (nullable = true)\n",
      " |-- sessionId: long (nullable = true)\n",
      " |-- song: string (nullable = true)\n",
      " |-- status: long (nullable = true)\n",
      " |-- ts: long (nullable = true)\n",
      " |-- userAgent: string (nullable = true)\n",
      " |-- userId: string (nullable = true)\n",
      " |-- date: date (nullable = true)\n",
      " |-- reg_date: date (nullable = true)\n",
      "\n"
     ]
    }
   ],
   "source": [
    "# 将ts,registration转化为datetype\n",
    "df = df.withColumn('date', from_unixtime(col('ts')/1000).cast(DateType()))\n",
    "\n",
    "df = df.withColumn(\"reg_date\",from_unixtime(col('registration')/1000).cast(DateType()))\n",
    "\n",
    "df.printSchema()"
   ]
  },
  {
   "cell_type": "markdown",
   "metadata": {},
   "source": [
    "# 探索性数据分析\n",
    "\n",
    "### 定义客户流失\n",
    "\n",
    "在你完成初步分析之后，创建一列 `Churn` 作为模型的标签。使用 `Cancellation Confirmation` 事件来定义客户流失，该事件在付费或免费客户身上都有发生。\n",
    "\n",
    "### 探索数据\n",
    "你定义好客户流失后，执行一些探索性数据分析，观察留存用户和流失用户的行为。你可以首先把这两类用户的数据聚合到一起，观察固定时间内某个特定动作出现的次数或者播放音乐的数量。\n",
    "\n",
    "### 提出问题\n",
    "- 流失用户与用户性别，付费情况，注册时长，地区，设备，平均每天Session数，平均ItemInSession的关系\n",
    "- 流失用户与访问特定页面数量时间的关系"
   ]
  },
  {
   "cell_type": "code",
   "execution_count": 12,
   "metadata": {},
   "outputs": [],
   "source": [
    "# 定义流失用户\n",
    "flag_cancel_confirmation = udf(lambda x : 1 if x == \"Cancellation Confirmation\" else 0, IntegerType())\n",
    "df = df.withColumn(\"cancelled\", flag_cancel_confirmation(\"page\"))\n",
    "\n",
    "windowval = Window.partitionBy(\"userId\").orderBy(desc(\"ts\")).rangeBetween(Window.unboundedPreceding,0)\n",
    "\n",
    "df = df.withColumn(\"churn\",Fsum(\"cancelled\").over(windowval))"
   ]
  },
  {
   "cell_type": "markdown",
   "metadata": {},
   "source": [
    "1 查看流失用户与性别的关系"
   ]
  },
  {
   "cell_type": "code",
   "execution_count": 13,
   "metadata": {},
   "outputs": [],
   "source": [
    "gender = df.dropDuplicates([\"userId\",\"gender\"]).groupby([\"churn\",\"gender\"]).count().toPandas()"
   ]
  },
  {
   "cell_type": "code",
   "execution_count": 14,
   "metadata": {},
   "outputs": [
    {
     "data": {
      "text/plain": [
       "Text(0.5,1,'churn_gender')"
      ]
     },
     "execution_count": 14,
     "metadata": {},
     "output_type": "execute_result"
    },
    {
     "data": {
      "image/png": "[encoded data removed]",
      "text/plain": [
       "<matplotlib.figure.Figure at 0x7f0962148400>"
      ]
     },
     "metadata": {
      "needs_background": "light"
     },
     "output_type": "display_data"
    }
   ],
   "source": [
    "sns.barplot(x=\"gender\", y=\"count\", hue=\"churn\",data=gender).set_title(\"churn_gender\")"
   ]
  },
  {
   "cell_type": "markdown",
   "metadata": {},
   "source": [
    "- 总量流失使用中男性多于女性，但差别不大\n",
    "\n",
    "2 查看付费用户与免费用户中流失用户数量的差别"
   ]
  },
  {
   "cell_type": "code",
   "execution_count": 15,
   "metadata": {},
   "outputs": [
    {
     "data": {
      "text/plain": [
       "Text(0.5,1,'churn_level')"
      ]
     },
     "execution_count": 15,
     "metadata": {},
     "output_type": "execute_result"
    },
    {
     "data": {
      "image/png": "[encoded data removed]",
      "text/plain": [
       "<matplotlib.figure.Figure at 0x7f0962062390>"
      ]
     },
     "metadata": {
      "needs_background": "light"
     },
     "output_type": "display_data"
    }
   ],
   "source": [
    "gender = df.dropDuplicates([\"userId\",\"level\"]).groupby([\"churn\",\"level\"]).count().toPandas()\n",
    "sns.barplot(x=\"level\", y=\"count\", hue=\"churn\",data=gender).set_title(\"churn_level\")"
   ]
  },
  {
   "cell_type": "markdown",
   "metadata": {},
   "source": [
    "- 付费用户与免费用户流失比例相差不大\n",
    "\n",
    "3 查看注销与否和注册时长的关系"
   ]
  },
  {
   "cell_type": "code",
   "execution_count": 16,
   "metadata": {},
   "outputs": [],
   "source": [
    "reg_time = df.groupBy(\"userId\",\"churn\").agg({\"date\":\"max\",\"reg_date\":\"max\"})\\\n",
    ".withColumnRenamed(\"max(date)\", \"max_date\").withColumnRenamed(\"max(reg_date)\", \"reg\")\n",
    "reg_time = reg_time.withColumn(\"reg_time\",datediff(col(\"max_date\"),col(\"reg\")))\n",
    "reg_time_df = reg_time.toPandas()\n",
    "df = df.join(reg_time, on = ['userId','churn'])"
   ]
  },
  {
   "cell_type": "code",
   "execution_count": 17,
   "metadata": {},
   "outputs": [
    {
     "data": {
      "text/plain": [
       "<seaborn.axisgrid.FacetGrid at 0x7f0961801cf8>"
      ]
     },
     "execution_count": 17,
     "metadata": {},
     "output_type": "execute_result"
    },
    {
     "data": {
      "image/png": "[encoded data removed]",
      "text/plain": [
       "<matplotlib.figure.Figure at 0x7f0961807320>"
      ]
     },
     "metadata": {
      "needs_background": "light"
     },
     "output_type": "display_data"
    }
   ],
   "source": [
    "g = sns.FacetGrid(reg_time_df, col=\"churn\", sharey=False)\n",
    "g.map(plt.hist, \"reg_time\")"
   ]
  },
  {
   "cell_type": "markdown",
   "metadata": {},
   "source": [
    "4 查看itemInSession与是否注销的关系"
   ]
  },
  {
   "cell_type": "code",
   "execution_count": 18,
   "metadata": {
    "scrolled": true
   },
   "outputs": [
    {
     "data": {
      "text/plain": [
       "<seaborn.axisgrid.FacetGrid at 0x7f09616e4518>"
      ]
     },
     "execution_count": 18,
     "metadata": {},
     "output_type": "execute_result"
    },
    {
     "data": {
      "image/png": "[encoded data removed]",
      "text/plain": [
       "<matplotlib.figure.Figure at 0x7f096170a160>"
      ]
     },
     "metadata": {
      "needs_background": "light"
     },
     "output_type": "display_data"
    }
   ],
   "source": [
    "itemInSession_df = df.groupBy(['userId','churn']).avg('itemInSession').toPandas()\n",
    "g = sns.FacetGrid(itemInSession_df, col=\"churn\", sharey=False)\n",
    "g.map(plt.hist, \"avg(itemInSession)\")"
   ]
  },
  {
   "cell_type": "markdown",
   "metadata": {},
   "source": [
    "- 由于数据的量比较小，分布差别不大\n",
    "\n",
    "5 查看地区与注销与否的关系"
   ]
  },
  {
   "cell_type": "code",
   "execution_count": 19,
   "metadata": {
    "scrolled": true
   },
   "outputs": [
    {
     "name": "stdout",
     "output_type": "stream",
     "text": [
      "+-----+-----+-----+\n",
      "|churn|state|count|\n",
      "+-----+-----+-----+\n",
      "|    0|   CA|39158|\n",
      "|    0|   PA|23708|\n",
      "|    0|   TX|22200|\n",
      "|    0|   NH|18637|\n",
      "|    0|   FL|11427|\n",
      "+-----+-----+-----+\n",
      "only showing top 5 rows\n",
      "\n",
      "+-----+-----+-----+\n",
      "|churn|state|count|\n",
      "+-----+-----+-----+\n",
      "|    1|   CA| 7613|\n",
      "|    1|   CO| 4317|\n",
      "|    1|   MS| 3839|\n",
      "|    1|   WA| 3526|\n",
      "|    1|   OH| 3173|\n",
      "+-----+-----+-----+\n",
      "only showing top 5 rows\n",
      "\n"
     ]
    }
   ],
   "source": [
    "df = df.withColumn('state',substring(col('location'), -2, 3))\n",
    "\n",
    "df.groupBy(['churn','state']).count().where(df['churn']==0).sort(col('count').desc()).show(5)\n",
    "df.groupBy(['churn','state']).count().where(df['churn']==1).sort(col('count').desc()).show(5)"
   ]
  },
  {
   "cell_type": "code",
   "execution_count": 20,
   "metadata": {},
   "outputs": [
    {
     "name": "stdout",
     "output_type": "stream",
     "text": [
      "39\n",
      "225\n"
     ]
    }
   ],
   "source": [
    "print(df.select('state').distinct().count())\n",
    "print(df.select('userId').distinct().count())"
   ]
  },
  {
   "cell_type": "markdown",
   "metadata": {},
   "source": [
    "- 一共225个用户，地区就有39个，参考意义不大"
   ]
  },
  {
   "cell_type": "markdown",
   "metadata": {},
   "source": [
    "6 查看userAgent与用户是否注销的关系\n"
   ]
  },
  {
   "cell_type": "code",
   "execution_count": 21,
   "metadata": {},
   "outputs": [],
   "source": [
    "find_user_agent = udf(lambda x : re.findall(r\"Mozilla/5.0 \\((.+?) \",x),StringType())\n",
    "df = df.withColumn('new_ua',find_user_agent('userAgent'))"
   ]
  },
  {
   "cell_type": "code",
   "execution_count": 22,
   "metadata": {},
   "outputs": [
    {
     "name": "stdout",
     "output_type": "stream",
     "text": [
      "+------------+-----+\n",
      "|      new_ua|count|\n",
      "+------------+-----+\n",
      "|   [Windows]|24737|\n",
      "|[Macintosh;]|17355|\n",
      "|      [X11;]| 1762|\n",
      "|   [iPhone;]| 1010|\n",
      "+------------+-----+\n",
      "\n"
     ]
    }
   ],
   "source": [
    "df.filter('churn = 1').groupby('new_ua').count().sort(col('count').desc()).show()"
   ]
  },
  {
   "cell_type": "code",
   "execution_count": 23,
   "metadata": {},
   "outputs": [
    {
     "name": "stdout",
     "output_type": "stream",
     "text": [
      "+-------------+------+\n",
      "|       new_ua| count|\n",
      "+-------------+------+\n",
      "|    [Windows]|108450|\n",
      "| [Macintosh;]| 85394|\n",
      "|      [iPad;]| 11381|\n",
      "|[compatible;]| 10684|\n",
      "|    [iPhone;]| 10182|\n",
      "|       [X11;]|  7199|\n",
      "+-------------+------+\n",
      "\n"
     ]
    }
   ],
   "source": [
    "df.filter('churn = 0').groupby('new_ua').count().sort(col('count').desc()).show()"
   ]
  },
  {
   "cell_type": "code",
   "execution_count": 24,
   "metadata": {},
   "outputs": [
    {
     "data": {
      "text/plain": [
       "Text(0,0.5,'The number of user')"
      ]
     },
     "execution_count": 24,
     "metadata": {},
     "output_type": "execute_result"
    },
    {
     "data": {
      "image/png": "[encoded data removed]",
      "text/plain": [
       "<matplotlib.figure.Figure at 0x7f09615d4898>"
      ]
     },
     "metadata": {
      "needs_background": "light"
     },
     "output_type": "display_data"
    }
   ],
   "source": [
    "plt.figure(figsize=(12, 5))\n",
    "sns.countplot(x = \"new_ua\", hue = \"churn\",\n",
    "              data=df.toPandas())\n",
    "plt.title(\"The number of user Churn VS. Device\")\n",
    "plt.xlabel(\"Device\")\n",
    "plt.ylabel(\"The number of user\")"
   ]
  },
  {
   "cell_type": "markdown",
   "metadata": {},
   "source": [
    "7 查看流失用户与访问次数的关系"
   ]
  },
  {
   "cell_type": "code",
   "execution_count": 25,
   "metadata": {},
   "outputs": [],
   "source": [
    "df = df.withColumn('month',month('date'))\n",
    "# 计算每天的访问次数\n",
    "day_df = df.groupBy(['userId','churn','date']).agg(countDistinct('sessionId')).groupBy('userId','churn')\\\n",
    ".avg('count(DISTINCT sessionId)').withColumnRenamed('avg(count(DISTINCT sessionId))','daily_session')\n",
    "df = df.join(day_df, on=['userId','churn'])"
   ]
  },
  {
   "cell_type": "code",
   "execution_count": 26,
   "metadata": {},
   "outputs": [
    {
     "data": {
      "image/png": "[encoded data removed]",
      "text/plain": [
       "<matplotlib.figure.Figure at 0x7f094dc0abe0>"
      ]
     },
     "metadata": {
      "needs_background": "light"
     },
     "output_type": "display_data"
    }
   ],
   "source": [
    "g = sns.FacetGrid(day_df.toPandas(), col=\"churn\", sharey=False)\n",
    "g.map(plt.hist, \"daily_session\");"
   ]
  },
  {
   "cell_type": "code",
   "execution_count": 27,
   "metadata": {},
   "outputs": [
    {
     "data": {
      "text/plain": [
       "<seaborn.axisgrid.FacetGrid at 0x7f0955282630>"
      ]
     },
     "execution_count": 27,
     "metadata": {},
     "output_type": "execute_result"
    },
    {
     "data": {
      "image/png": "[encoded data removed]",
      "text/plain": [
       "<matplotlib.figure.Figure at 0x7f09554fe470>"
      ]
     },
     "metadata": {
      "needs_background": "light"
     },
     "output_type": "display_data"
    }
   ],
   "source": [
    "# 计算每个月的平均访问天数\n",
    "month_df = df.groupBy(['userId','churn','month']).agg(countDistinct('date')).groupBy('userId','churn')\\\n",
    ".avg('count(DISTINCT date)').withColumnRenamed('avg(count(DISTINCT date))','monthly_day')\n",
    "df = df.join(month_df, on=['userId','churn'])\n",
    "g = sns.FacetGrid(month_df.toPandas(), col=\"churn\", sharey=False)\n",
    "g.map(plt.hist, \"monthly_day\")"
   ]
  },
  {
   "cell_type": "markdown",
   "metadata": {},
   "source": [
    "8 查看用户流失与各页面访问次数的关系"
   ]
  },
  {
   "cell_type": "code",
   "execution_count": 28,
   "metadata": {},
   "outputs": [],
   "source": [
    "# 统计各个page的访问数量\n",
    "for p in ['Downgrade','Roll Advert','Thumbs Down','Add to Playlist','Add Friend','Thumbs Up','NextSong','Upgrade']:\n",
    "    df = df.withColumn(p, (df['page']==p).cast(IntegerType()))\n",
    "\n",
    "page_df = df.groupBy('userId','churn').agg({'Downgrade':'sum',\n",
    "                                    'Upgrade':'sum',\n",
    "                                   'Roll Advert':'sum',\n",
    "                                   'Thumbs Down':'sum',\n",
    "                                   'Add to Playlist':'sum',\n",
    "                                   'Add Friend':'sum',\n",
    "                                   'Thumbs Up':'sum',\n",
    "                                    'NextSong':'sum'}).toPandas()"
   ]
  },
  {
   "cell_type": "code",
   "execution_count": 29,
   "metadata": {},
   "outputs": [
    {
     "data": {
      "image/png": "[encoded data removed]",
      "text/plain": [
       "<matplotlib.figure.Figure at 0x7f09512024e0>"
      ]
     },
     "metadata": {
      "needs_background": "light"
     },
     "output_type": "display_data"
    }
   ],
   "source": [
    "plt.figure(figsize=(16,8))\n",
    "plt.subplot(241)\n",
    "sns.violinplot(data=page_df, x = \"churn\", y = \"sum(Add Friend)\", \\\n",
    "               color = sns.color_palette()[0])\n",
    "\n",
    "plt.subplot(242)\n",
    "sns.violinplot(data=page_df, x = \"churn\", y = \"sum(Thumbs Up)\", \\\n",
    "               color = sns.color_palette()[0])\n",
    "\n",
    "plt.subplot(243)\n",
    "sns.violinplot(data=page_df, x = \"churn\", y = \"sum(Add to Playlist)\", \\\n",
    "               color = sns.color_palette()[0])\n",
    "\n",
    "plt.subplot(244)\n",
    "sns.violinplot(data=page_df, x = \"churn\", y = \"sum(Upgrade)\", \\\n",
    "               color = sns.color_palette()[0])\n",
    "\n",
    "plt.subplot(245)\n",
    "sns.violinplot(data=page_df, x = \"churn\", y = \"sum(NextSong)\", \\\n",
    "               color = sns.color_palette()[0])\n",
    "\n",
    "plt.subplot(246)\n",
    "sns.violinplot(data=page_df, x= \"churn\", y = \"sum(Roll Advert)\", \\\n",
    "               color = sns.color_palette()[0])\n",
    "\n",
    "plt.subplot(247)\n",
    "sns.violinplot(data=page_df, x = \"churn\", y = \"sum(Thumbs Down)\", \\\n",
    "               color = sns.color_palette()[0])\n",
    "\n",
    "plt.subplot(248)\n",
    "sns.violinplot(data=page_df, x = \"churn\", y = \"sum(Downgrade)\", \\\n",
    "               color = sns.color_palette()[0]);"
   ]
  },
  {
   "cell_type": "markdown",
   "metadata": {},
   "source": [
    "# 特征工程  \n",
    "我决定使用以下特征值  \n",
    "- 注册天数\n",
    "- 每天访问次数\n",
    "- 每月访问天数\n",
    "- 注册天数\n",
    "- 付费与否\n",
    "- 页面访问次数  \n",
    " - 升级页面\n",
    " - 降级页面\n",
    " - 广告页面\n",
    " - 踩\n",
    " - 点赞\n",
    " - 加好友\n",
    " - 添加到播放列表\n",
    " - 下一首歌"
   ]
  },
  {
   "cell_type": "code",
   "execution_count": 30,
   "metadata": {},
   "outputs": [],
   "source": [
    "features = df.groupBy('userId').agg({'itemInSession':'avg',\n",
    "                                   'daily_session':'min',\n",
    "                                   'monthly_day':'min',\n",
    "                                   'reg_time':'min',\n",
    "                                   'level':'max',\n",
    "                                   'churn':'max',\n",
    "                                   'Downgrade':'sum',\n",
    "                                   'Roll Advert':'sum',\n",
    "                                   'Thumbs Down':'sum',\n",
    "                                   'Add to Playlist':'sum',\n",
    "                                   'Add Friend':'sum',\n",
    "                                   'Thumbs Up':'sum',\n",
    "                                    'Upgrade':'sum',\n",
    "                                    'NextSong':'sum'})\n",
    "                                   \n",
    "\n",
    "features = features.select(col('avg(itemInSession)').alias('itemInSession'),\n",
    "                                 col('min(daily_session)').alias('daily_session'),\n",
    "                                 col('min(monthly_day)').alias('monthly_day'),\n",
    "                                 col('min(reg_time)').alias('days_since_reg'),\n",
    "                  col('max(level)').alias('level'),\n",
    "                  col('sum(Downgrade)').alias('downgrade'),\n",
    "                  col('sum(Roll Advert)').alias('rollAdvert'),\n",
    "                  col('sum(Thumbs Down)').alias('thumbsDown'),\n",
    "                  col('sum(Add to Playlist)').alias('addToPlaylist'),\n",
    "                  col('sum(Add Friend)').alias('addFriend'),\n",
    "                  col('sum(Thumbs Up)').alias('thumbsUp'),\n",
    "                  col('sum(Upgrade)').alias('upgrade'),\n",
    "                  col('sum(NextSong)').alias('nextSong'),\n",
    "                  col('max(churn)').alias('label'))"
   ]
  },
  {
   "cell_type": "code",
   "execution_count": 31,
   "metadata": {},
   "outputs": [
    {
     "name": "stdout",
     "output_type": "stream",
     "text": [
      "+-------------+-------------+-----------+--------------+-----+---------+----------+----------+-------------+---------+--------+-------+--------+-----+\n",
      "|itemInSession|daily_session|monthly_day|days_since_reg|level|downgrade|rollAdvert|thumbsDown|addToPlaylist|addFriend|thumbsUp|upgrade|nextSong|label|\n",
      "+-------------+-------------+-----------+--------------+-----+---------+----------+----------+-------------+---------+--------+-------+--------+-----+\n",
      "|            0|            0|          0|             0|    0|        0|         0|         0|            0|        0|       0|      0|       0|    0|\n",
      "+-------------+-------------+-----------+--------------+-----+---------+----------+----------+-------------+---------+--------+-------+--------+-----+\n",
      "\n"
     ]
    }
   ],
   "source": [
    "# 查看有没有空值\n",
    "features.select([count(when(isnull(c), c)).alias(c) for c in features.columns]).show()"
   ]
  },
  {
   "cell_type": "code",
   "execution_count": 32,
   "metadata": {},
   "outputs": [],
   "source": [
    "indexer_level = StringIndexer(inputCol='level', outputCol='level_index')\n",
    "# 将各个特征整合成向量\n",
    "assembler = VectorAssembler(inputCols=['daily_session',\n",
    "                                      'monthly_day',\n",
    "                                      'days_since_reg',\n",
    "                                      'level_index',\n",
    "                                      'downgrade',\n",
    "                                      'rollAdvert',\n",
    "                                      'thumbsDown',\n",
    "                                      'addToPlaylist',\n",
    "                                      'addFriend',\n",
    "                                      'thumbsUp',\n",
    "                                      'nextSong',\n",
    "                                      'upgrade'], outputCol='NumFeatures')\n",
    "# 使用\n",
    "scaler = StandardScaler(inputCol=\"NumFeatures\", outputCol=\"features\")\n",
    "#scaler = MinMaxScaler(inputCol=\"NumFeatures\", outputCol=\"features\")\n",
    "\n",
    "features_pipeline = Pipeline(stages=[indexer_level, assembler, scaler])\n",
    "\n",
    "model_df = features_pipeline.fit(features).transform(features)"
   ]
  },
  {
   "cell_type": "code",
   "execution_count": 33,
   "metadata": {},
   "outputs": [],
   "source": [
    "# 将稀疏向量转成稠密向量\n",
    "model_df_clean = model_df.select(['label','features'])\n",
    "df2 = model_df.select(\"label\", \"features\")\n",
    "rdd = df2.rdd.map(lambda x: Row(label=x[0],features=DenseVector(x[1].toArray()))\n",
    "                     if (len(x)>1 and hasattr(x[1], \"toArray\"))\n",
    "                     else Row(label=None, features=DenseVector([])))\n",
    "model_data = spark.createDataFrame(rdd)"
   ]
  },
  {
   "cell_type": "markdown",
   "metadata": {},
   "source": [
    "# 建模\n",
    "将完整数据集分成训练集、测试集和验证集。测试几种机器学习方法。评价不同机器学习方法的准确率，根据情况调节参数。根据准确率你挑选出表现最好的那个模型，然后报告在训练集上的结果。因为流失顾客数据集很小，为了防止模型预测全员没有流失而也到高分，我建议选用 F1 score 作为优化指标。"
   ]
  },
  {
   "cell_type": "code",
   "execution_count": 34,
   "metadata": {},
   "outputs": [],
   "source": [
    "# 分割训练集和测试集\n",
    "train, test = model_data.randomSplit([0.9, 0.1], seed=42)"
   ]
  },
  {
   "cell_type": "code",
   "execution_count": 35,
   "metadata": {},
   "outputs": [],
   "source": [
    "def cal_f1_score(train,test,model):\n",
    "    start_time = time.time()\n",
    "    result = model.fit(train)\n",
    "    prediction = result.transform(test)\n",
    "    end_time = time.time()\n",
    "    \n",
    "    f1_score_evaluator = MulticlassClassificationEvaluator(metricName='f1')\n",
    "    f1_score = f1_score_evaluator.evaluate(prediction.select(col('label'), col('prediction')))\n",
    "    print('Run Time is {}'.format(np.round(((end_time - start_time)/60),2)))\n",
    "    print('The F1-Score is {}'.format(f1_score))"
   ]
  },
  {
   "cell_type": "code",
   "execution_count": 41,
   "metadata": {},
   "outputs": [
    {
     "name": "stdout",
     "output_type": "stream",
     "text": [
      "Run Time is 2.79\n",
      "The F1-Score is 0.6858974358974359\n",
      "Run Time is 1.2\n",
      "The F1-Score is 0.7835714285714286\n",
      "Run Time is 5.0\n",
      "The F1-Score is 0.6392857142857143\n"
     ]
    }
   ],
   "source": [
    "# 逻辑回归\n",
    "model = LogisticRegression()\n",
    "cal_f1_score(train,test,model)\n",
    "\n",
    "# 随机森林\n",
    "model = RandomForestClassifier(seed = 42)\n",
    "cal_f1_score(train,test,model)\n",
    "\n",
    "# 集成方法\n",
    "model = GBTClassifier(seed = 42)\n",
    "cal_f1_score(train,test,model)"
   ]
  },
  {
   "cell_type": "markdown",
   "metadata": {},
   "source": [
    "从上面结果得到随机森林的训练用时最短且效果最好，下一步我们来调整随机森林的超参数。  \n",
    "maxDepth可能取值有5，10  \n",
    "numTrees可能取值有20，50  \n",
    "我们选用多组参数，进行交叉验证，选择表现好的参数。"
   ]
  },
  {
   "cell_type": "code",
   "execution_count": 37,
   "metadata": {},
   "outputs": [
    {
     "name": "stdout",
     "output_type": "stream",
     "text": [
      "The accuracy on the test set is 81.25% and the F-1 score is 0.7835714285714286\n"
     ]
    }
   ],
   "source": [
    "classifier = RandomForestClassifier(seed = 42)\n",
    "paramGrid = ParamGridBuilder()\\\n",
    "        .addGrid(classifier.maxDepth, [5, 10])\\\n",
    "        .addGrid(classifier.numTrees, [20, 50])\\\n",
    "        .build()\n",
    "\n",
    "crossval = CrossValidator(estimator = Pipeline(stages=[classifier]),\n",
    "                         estimatorParamMaps = paramGrid,\n",
    "                         evaluator = MulticlassClassificationEvaluator(metricName='f1'),\n",
    "                         numFolds = 3)\n",
    "\n",
    "classification = crossval.fit(train)\n",
    "results = classification.transform(test)\n",
    "\n",
    "# 计算准确率和f1分数\n",
    "accuracy_evaluator = MulticlassClassificationEvaluator(metricName='accuracy')\n",
    "accuracy = accuracy_evaluator.evaluate(results.select(col('label'), col('prediction')))\n",
    "\n",
    "f1_score_evaluator = MulticlassClassificationEvaluator(metricName='f1')\n",
    "f1_score = f1_score_evaluator.evaluate(results.select(col('label'), col('prediction')))\n",
    "\n",
    "print('The accuracy on the test set is {:.2%} and the F-1 score is {}'\\\n",
    ".format(accuracy, f1_score))"
   ]
  },
  {
   "cell_type": "code",
   "execution_count": 38,
   "metadata": {},
   "outputs": [
    {
     "data": {
      "text/plain": [
       "DenseVector([0.1231, 0.073, 0.2542, 0.0022, 0.0393, 0.0953, 0.0896, 0.0671, 0.0789, 0.0726, 0.0629, 0.0418])"
      ]
     },
     "execution_count": 38,
     "metadata": {},
     "output_type": "execute_result"
    }
   ],
   "source": [
    "# 查看特征重要性\n",
    "DenseVector(classification.bestModel.stages[-1].featureImportances)"
   ]
  },
  {
   "cell_type": "code",
   "execution_count": 39,
   "metadata": {},
   "outputs": [
    {
     "data": {
      "text/plain": [
       "{Param(parent='RandomForestClassifier_a6bc79c16497', name='maxDepth', doc='Maximum depth of the tree. (>= 0) E.g., depth 0 means 1 leaf node; depth 1 means 1 internal node + 2 leaf nodes.'): 10,\n",
       " Param(parent='RandomForestClassifier_a6bc79c16497', name='numTrees', doc='Number of trees to train (>= 1).'): 50}"
      ]
     },
     "execution_count": 39,
     "metadata": {},
     "output_type": "execute_result"
    }
   ],
   "source": [
    "# 查看最佳参数\n",
    "classification.getEstimatorParamMaps()[np.argmax(classification.avgMetrics)]"
   ]
  },
  {
   "cell_type": "markdown",
   "metadata": {},
   "source": [
    "##### 评估得分\n",
    "- 准确度81.25%\n",
    "- F-1 score:0.7836\n",
    "\n",
    "##### 最佳参数\n",
    "- maxDepth 10\n",
    "- numTrees 50\n",
    "\n",
    "##### 主要特征\n",
    "- 注册天数\n",
    "- 平均每天访问次数"
   ]
  },
  {
   "cell_type": "markdown",
   "metadata": {},
   "source": [
    "# 总结\n",
    "- 本次由于数据集较小可能会导致测试集上的预测准确率很难提升\n",
    "- 尝试了逻辑回归模型，随机森林和集成方法，其中随机森林模型的训练用时最短效果最好\n",
    "- 一开始使用MinMaxScaler进行转换，结果一些较小的值都被转换为0，导致预测精度下降\n",
    "- 本次项目是根据截至当前的用户行为数据来预测用户是否注销，但是实际上工作中肯定预测的是未来一段时间用户是否注销。\n",
    "- 本次使用的特征以外，细想一下还有很多特征值得尝试，譬如喜欢的音乐家数量，听歌数量，所在地变更情况等等\n"
   ]
  }
 ],
 "metadata": {
  "kernelspec": {
   "display_name": "Python 3",
   "language": "python",
   "name": "python3"
  },
  "language_info": {
   "codemirror_mode": {
    "name": "ipython",
    "version": 3
   },
   "file_extension": ".py",
   "mimetype": "text/x-python",
   "name": "python",
   "nbconvert_exporter": "python",
   "pygments_lexer": "ipython3",
   "version": "3.6.3"
  }
 },
 "nbformat": 4,
 "nbformat_minor": 2
}
